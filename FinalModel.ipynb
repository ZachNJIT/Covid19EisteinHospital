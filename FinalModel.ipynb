{
 "cells": [
  {
   "cell_type": "markdown",
   "metadata": {
    "colab_type": "text",
    "id": "view-in-github"
   },
   "source": [
    "<a href=\"https://colab.research.google.com/github/MachineLearnia/Python-Machine-Learning/blob/master/29%20-%20Modelisation.ipynb\" target=\"_parent\"><img src=\"https://colab.research.google.com/assets/colab-badge.svg\" alt=\"Open In Colab\"/></a>"
   ]
  },
  {
   "cell_type": "code",
   "execution_count": 106,
   "metadata": {
    "colab": {
     "base_uri": "https://localhost:8080/",
     "height": 17
    },
    "colab_type": "code",
    "id": "rniiIDzyIbCb",
    "outputId": "8c76caa7-2da3-47f8-ac2c-ea7d7ba8f59c"
   },
   "outputs": [
    {
     "data": {
      "application/javascript": [
       "IPython.OutputArea.auto_scroll_threshold = 9999\n"
      ],
      "text/plain": [
       "<IPython.core.display.Javascript object>"
      ]
     },
     "metadata": {},
     "output_type": "display_data"
    }
   ],
   "source": [
    "%%javascript\n",
    "IPython.OutputArea.auto_scroll_threshold = 9999"
   ]
  },
  {
   "cell_type": "code",
   "execution_count": 107,
   "metadata": {
    "colab": {
     "base_uri": "https://localhost:8080/",
     "height": 51
    },
    "colab_type": "code",
    "id": "iU84VfCvIbCf",
    "outputId": "079ff2bf-6d3f-42b3-e3b6-284999f73af7"
   },
   "outputs": [],
   "source": [
    "import numpy as np\n",
    "import pandas as pd\n",
    "import matplotlib.pyplot as plt\n",
    "import seaborn as sns"
   ]
  },
  {
   "cell_type": "code",
   "execution_count": 108,
   "metadata": {
    "colab": {
     "base_uri": "https://localhost:8080/",
     "height": 386
    },
    "colab_type": "code",
    "id": "idA3EmESIbCh",
    "outputId": "d91e7f6d-9071-457b-a733-ae4be539d524"
   },
   "outputs": [
    {
     "data": {
      "text/html": [
       "<div>\n",
       "<style scoped>\n",
       "    .dataframe tbody tr th:only-of-type {\n",
       "        vertical-align: middle;\n",
       "    }\n",
       "\n",
       "    .dataframe tbody tr th {\n",
       "        vertical-align: top;\n",
       "    }\n",
       "\n",
       "    .dataframe thead th {\n",
       "        text-align: right;\n",
       "    }\n",
       "</style>\n",
       "<table border=\"1\" class=\"dataframe\">\n",
       "  <thead>\n",
       "    <tr style=\"text-align: right;\">\n",
       "      <th></th>\n",
       "      <th>Patient age quantile</th>\n",
       "      <th>SARS-Cov-2 exam result</th>\n",
       "      <th>Patient addmited to regular ward (1=yes, 0=no)</th>\n",
       "      <th>Patient addmited to semi-intensive unit (1=yes, 0=no)</th>\n",
       "      <th>Patient addmited to intensive care unit (1=yes, 0=no)</th>\n",
       "      <th>Hematocrit</th>\n",
       "      <th>Hemoglobin</th>\n",
       "      <th>Platelets</th>\n",
       "      <th>Mean platelet volume</th>\n",
       "      <th>Red blood Cells</th>\n",
       "      <th>...</th>\n",
       "      <th>Hb saturation (arterial blood gases)</th>\n",
       "      <th>pCO2 (arterial blood gas analysis)</th>\n",
       "      <th>Base excess (arterial blood gas analysis)</th>\n",
       "      <th>pH (arterial blood gas analysis)</th>\n",
       "      <th>Total CO2 (arterial blood gas analysis)</th>\n",
       "      <th>HCO3 (arterial blood gas analysis)</th>\n",
       "      <th>pO2 (arterial blood gas analysis)</th>\n",
       "      <th>Arteiral Fio2</th>\n",
       "      <th>Phosphor</th>\n",
       "      <th>ctO2 (arterial blood gas analysis)</th>\n",
       "    </tr>\n",
       "    <tr>\n",
       "      <th>Patient ID</th>\n",
       "      <th></th>\n",
       "      <th></th>\n",
       "      <th></th>\n",
       "      <th></th>\n",
       "      <th></th>\n",
       "      <th></th>\n",
       "      <th></th>\n",
       "      <th></th>\n",
       "      <th></th>\n",
       "      <th></th>\n",
       "      <th></th>\n",
       "      <th></th>\n",
       "      <th></th>\n",
       "      <th></th>\n",
       "      <th></th>\n",
       "      <th></th>\n",
       "      <th></th>\n",
       "      <th></th>\n",
       "      <th></th>\n",
       "      <th></th>\n",
       "      <th></th>\n",
       "    </tr>\n",
       "  </thead>\n",
       "  <tbody>\n",
       "    <tr>\n",
       "      <th>44477f75e8169d2</th>\n",
       "      <td>13</td>\n",
       "      <td>negative</td>\n",
       "      <td>0</td>\n",
       "      <td>0</td>\n",
       "      <td>0</td>\n",
       "      <td>NaN</td>\n",
       "      <td>NaN</td>\n",
       "      <td>NaN</td>\n",
       "      <td>NaN</td>\n",
       "      <td>NaN</td>\n",
       "      <td>...</td>\n",
       "      <td>NaN</td>\n",
       "      <td>NaN</td>\n",
       "      <td>NaN</td>\n",
       "      <td>NaN</td>\n",
       "      <td>NaN</td>\n",
       "      <td>NaN</td>\n",
       "      <td>NaN</td>\n",
       "      <td>NaN</td>\n",
       "      <td>NaN</td>\n",
       "      <td>NaN</td>\n",
       "    </tr>\n",
       "    <tr>\n",
       "      <th>126e9dd13932f68</th>\n",
       "      <td>17</td>\n",
       "      <td>negative</td>\n",
       "      <td>0</td>\n",
       "      <td>0</td>\n",
       "      <td>0</td>\n",
       "      <td>0.236515</td>\n",
       "      <td>-0.02234</td>\n",
       "      <td>-0.517413</td>\n",
       "      <td>0.010677</td>\n",
       "      <td>0.102004</td>\n",
       "      <td>...</td>\n",
       "      <td>NaN</td>\n",
       "      <td>NaN</td>\n",
       "      <td>NaN</td>\n",
       "      <td>NaN</td>\n",
       "      <td>NaN</td>\n",
       "      <td>NaN</td>\n",
       "      <td>NaN</td>\n",
       "      <td>NaN</td>\n",
       "      <td>NaN</td>\n",
       "      <td>NaN</td>\n",
       "    </tr>\n",
       "    <tr>\n",
       "      <th>a46b4402a0e5696</th>\n",
       "      <td>8</td>\n",
       "      <td>negative</td>\n",
       "      <td>0</td>\n",
       "      <td>0</td>\n",
       "      <td>0</td>\n",
       "      <td>NaN</td>\n",
       "      <td>NaN</td>\n",
       "      <td>NaN</td>\n",
       "      <td>NaN</td>\n",
       "      <td>NaN</td>\n",
       "      <td>...</td>\n",
       "      <td>NaN</td>\n",
       "      <td>NaN</td>\n",
       "      <td>NaN</td>\n",
       "      <td>NaN</td>\n",
       "      <td>NaN</td>\n",
       "      <td>NaN</td>\n",
       "      <td>NaN</td>\n",
       "      <td>NaN</td>\n",
       "      <td>NaN</td>\n",
       "      <td>NaN</td>\n",
       "    </tr>\n",
       "    <tr>\n",
       "      <th>f7d619a94f97c45</th>\n",
       "      <td>5</td>\n",
       "      <td>negative</td>\n",
       "      <td>0</td>\n",
       "      <td>0</td>\n",
       "      <td>0</td>\n",
       "      <td>NaN</td>\n",
       "      <td>NaN</td>\n",
       "      <td>NaN</td>\n",
       "      <td>NaN</td>\n",
       "      <td>NaN</td>\n",
       "      <td>...</td>\n",
       "      <td>NaN</td>\n",
       "      <td>NaN</td>\n",
       "      <td>NaN</td>\n",
       "      <td>NaN</td>\n",
       "      <td>NaN</td>\n",
       "      <td>NaN</td>\n",
       "      <td>NaN</td>\n",
       "      <td>NaN</td>\n",
       "      <td>NaN</td>\n",
       "      <td>NaN</td>\n",
       "    </tr>\n",
       "    <tr>\n",
       "      <th>d9e41465789c2b5</th>\n",
       "      <td>15</td>\n",
       "      <td>negative</td>\n",
       "      <td>0</td>\n",
       "      <td>0</td>\n",
       "      <td>0</td>\n",
       "      <td>NaN</td>\n",
       "      <td>NaN</td>\n",
       "      <td>NaN</td>\n",
       "      <td>NaN</td>\n",
       "      <td>NaN</td>\n",
       "      <td>...</td>\n",
       "      <td>NaN</td>\n",
       "      <td>NaN</td>\n",
       "      <td>NaN</td>\n",
       "      <td>NaN</td>\n",
       "      <td>NaN</td>\n",
       "      <td>NaN</td>\n",
       "      <td>NaN</td>\n",
       "      <td>NaN</td>\n",
       "      <td>NaN</td>\n",
       "      <td>NaN</td>\n",
       "    </tr>\n",
       "  </tbody>\n",
       "</table>\n",
       "<p>5 rows × 110 columns</p>\n",
       "</div>"
      ],
      "text/plain": [
       "                 Patient age quantile SARS-Cov-2 exam result  \\\n",
       "Patient ID                                                     \n",
       "44477f75e8169d2                    13               negative   \n",
       "126e9dd13932f68                    17               negative   \n",
       "a46b4402a0e5696                     8               negative   \n",
       "f7d619a94f97c45                     5               negative   \n",
       "d9e41465789c2b5                    15               negative   \n",
       "\n",
       "                 Patient addmited to regular ward (1=yes, 0=no)  \\\n",
       "Patient ID                                                        \n",
       "44477f75e8169d2                                               0   \n",
       "126e9dd13932f68                                               0   \n",
       "a46b4402a0e5696                                               0   \n",
       "f7d619a94f97c45                                               0   \n",
       "d9e41465789c2b5                                               0   \n",
       "\n",
       "                 Patient addmited to semi-intensive unit (1=yes, 0=no)  \\\n",
       "Patient ID                                                               \n",
       "44477f75e8169d2                                                  0       \n",
       "126e9dd13932f68                                                  0       \n",
       "a46b4402a0e5696                                                  0       \n",
       "f7d619a94f97c45                                                  0       \n",
       "d9e41465789c2b5                                                  0       \n",
       "\n",
       "                 Patient addmited to intensive care unit (1=yes, 0=no)  \\\n",
       "Patient ID                                                               \n",
       "44477f75e8169d2                                                  0       \n",
       "126e9dd13932f68                                                  0       \n",
       "a46b4402a0e5696                                                  0       \n",
       "f7d619a94f97c45                                                  0       \n",
       "d9e41465789c2b5                                                  0       \n",
       "\n",
       "                 Hematocrit  Hemoglobin  Platelets  Mean platelet volume   \\\n",
       "Patient ID                                                                  \n",
       "44477f75e8169d2         NaN         NaN        NaN                    NaN   \n",
       "126e9dd13932f68    0.236515    -0.02234  -0.517413               0.010677   \n",
       "a46b4402a0e5696         NaN         NaN        NaN                    NaN   \n",
       "f7d619a94f97c45         NaN         NaN        NaN                    NaN   \n",
       "d9e41465789c2b5         NaN         NaN        NaN                    NaN   \n",
       "\n",
       "                 Red blood Cells  ...  Hb saturation (arterial blood gases)  \\\n",
       "Patient ID                        ...                                         \n",
       "44477f75e8169d2              NaN  ...                                   NaN   \n",
       "126e9dd13932f68         0.102004  ...                                   NaN   \n",
       "a46b4402a0e5696              NaN  ...                                   NaN   \n",
       "f7d619a94f97c45              NaN  ...                                   NaN   \n",
       "d9e41465789c2b5              NaN  ...                                   NaN   \n",
       "\n",
       "                 pCO2 (arterial blood gas analysis)  \\\n",
       "Patient ID                                            \n",
       "44477f75e8169d2                                 NaN   \n",
       "126e9dd13932f68                                 NaN   \n",
       "a46b4402a0e5696                                 NaN   \n",
       "f7d619a94f97c45                                 NaN   \n",
       "d9e41465789c2b5                                 NaN   \n",
       "\n",
       "                 Base excess (arterial blood gas analysis)  \\\n",
       "Patient ID                                                   \n",
       "44477f75e8169d2                                        NaN   \n",
       "126e9dd13932f68                                        NaN   \n",
       "a46b4402a0e5696                                        NaN   \n",
       "f7d619a94f97c45                                        NaN   \n",
       "d9e41465789c2b5                                        NaN   \n",
       "\n",
       "                 pH (arterial blood gas analysis)  \\\n",
       "Patient ID                                          \n",
       "44477f75e8169d2                               NaN   \n",
       "126e9dd13932f68                               NaN   \n",
       "a46b4402a0e5696                               NaN   \n",
       "f7d619a94f97c45                               NaN   \n",
       "d9e41465789c2b5                               NaN   \n",
       "\n",
       "                 Total CO2 (arterial blood gas analysis)  \\\n",
       "Patient ID                                                 \n",
       "44477f75e8169d2                                      NaN   \n",
       "126e9dd13932f68                                      NaN   \n",
       "a46b4402a0e5696                                      NaN   \n",
       "f7d619a94f97c45                                      NaN   \n",
       "d9e41465789c2b5                                      NaN   \n",
       "\n",
       "                 HCO3 (arterial blood gas analysis)  \\\n",
       "Patient ID                                            \n",
       "44477f75e8169d2                                 NaN   \n",
       "126e9dd13932f68                                 NaN   \n",
       "a46b4402a0e5696                                 NaN   \n",
       "f7d619a94f97c45                                 NaN   \n",
       "d9e41465789c2b5                                 NaN   \n",
       "\n",
       "                 pO2 (arterial blood gas analysis)  Arteiral Fio2  Phosphor  \\\n",
       "Patient ID                                                                    \n",
       "44477f75e8169d2                                NaN            NaN       NaN   \n",
       "126e9dd13932f68                                NaN            NaN       NaN   \n",
       "a46b4402a0e5696                                NaN            NaN       NaN   \n",
       "f7d619a94f97c45                                NaN            NaN       NaN   \n",
       "d9e41465789c2b5                                NaN            NaN       NaN   \n",
       "\n",
       "                 ctO2 (arterial blood gas analysis)  \n",
       "Patient ID                                           \n",
       "44477f75e8169d2                                 NaN  \n",
       "126e9dd13932f68                                 NaN  \n",
       "a46b4402a0e5696                                 NaN  \n",
       "f7d619a94f97c45                                 NaN  \n",
       "d9e41465789c2b5                                 NaN  \n",
       "\n",
       "[5 rows x 110 columns]"
      ]
     },
     "execution_count": 108,
     "metadata": {},
     "output_type": "execute_result"
    }
   ],
   "source": [
    "url = 'https://raw.githubusercontent.com/ZachNJIT/Covid19EisteinHospital/master/dataset.csv'\n",
    "data = pd.read_csv(url, index_col=0, encoding = \"ISO-8859-1\")\n",
    "data.head()"
   ]
  },
  {
   "cell_type": "markdown",
   "metadata": {
    "colab_type": "text",
    "id": "NsKuZMIRIbCi"
   },
   "source": [
    "# PRE-PROCESSING"
   ]
  },
  {
   "cell_type": "code",
   "execution_count": 109,
   "metadata": {
    "colab": {
     "base_uri": "https://localhost:8080/",
     "height": 386
    },
    "colab_type": "code",
    "id": "s0yPFtaNIbCj",
    "outputId": "a5d2e032-4ba8-4b4f-8e74-e3e7055d024a"
   },
   "outputs": [
    {
     "data": {
      "text/html": [
       "<div>\n",
       "<style scoped>\n",
       "    .dataframe tbody tr th:only-of-type {\n",
       "        vertical-align: middle;\n",
       "    }\n",
       "\n",
       "    .dataframe tbody tr th {\n",
       "        vertical-align: top;\n",
       "    }\n",
       "\n",
       "    .dataframe thead th {\n",
       "        text-align: right;\n",
       "    }\n",
       "</style>\n",
       "<table border=\"1\" class=\"dataframe\">\n",
       "  <thead>\n",
       "    <tr style=\"text-align: right;\">\n",
       "      <th></th>\n",
       "      <th>Patient age quantile</th>\n",
       "      <th>SARS-Cov-2 exam result</th>\n",
       "      <th>Patient addmited to regular ward (1=yes, 0=no)</th>\n",
       "      <th>Patient addmited to semi-intensive unit (1=yes, 0=no)</th>\n",
       "      <th>Patient addmited to intensive care unit (1=yes, 0=no)</th>\n",
       "      <th>Hematocrit</th>\n",
       "      <th>Hemoglobin</th>\n",
       "      <th>Platelets</th>\n",
       "      <th>Mean platelet volume</th>\n",
       "      <th>Red blood Cells</th>\n",
       "      <th>...</th>\n",
       "      <th>Hb saturation (arterial blood gases)</th>\n",
       "      <th>pCO2 (arterial blood gas analysis)</th>\n",
       "      <th>Base excess (arterial blood gas analysis)</th>\n",
       "      <th>pH (arterial blood gas analysis)</th>\n",
       "      <th>Total CO2 (arterial blood gas analysis)</th>\n",
       "      <th>HCO3 (arterial blood gas analysis)</th>\n",
       "      <th>pO2 (arterial blood gas analysis)</th>\n",
       "      <th>Arteiral Fio2</th>\n",
       "      <th>Phosphor</th>\n",
       "      <th>ctO2 (arterial blood gas analysis)</th>\n",
       "    </tr>\n",
       "    <tr>\n",
       "      <th>Patient ID</th>\n",
       "      <th></th>\n",
       "      <th></th>\n",
       "      <th></th>\n",
       "      <th></th>\n",
       "      <th></th>\n",
       "      <th></th>\n",
       "      <th></th>\n",
       "      <th></th>\n",
       "      <th></th>\n",
       "      <th></th>\n",
       "      <th></th>\n",
       "      <th></th>\n",
       "      <th></th>\n",
       "      <th></th>\n",
       "      <th></th>\n",
       "      <th></th>\n",
       "      <th></th>\n",
       "      <th></th>\n",
       "      <th></th>\n",
       "      <th></th>\n",
       "      <th></th>\n",
       "    </tr>\n",
       "  </thead>\n",
       "  <tbody>\n",
       "    <tr>\n",
       "      <th>44477f75e8169d2</th>\n",
       "      <td>13</td>\n",
       "      <td>negative</td>\n",
       "      <td>0</td>\n",
       "      <td>0</td>\n",
       "      <td>0</td>\n",
       "      <td>NaN</td>\n",
       "      <td>NaN</td>\n",
       "      <td>NaN</td>\n",
       "      <td>NaN</td>\n",
       "      <td>NaN</td>\n",
       "      <td>...</td>\n",
       "      <td>NaN</td>\n",
       "      <td>NaN</td>\n",
       "      <td>NaN</td>\n",
       "      <td>NaN</td>\n",
       "      <td>NaN</td>\n",
       "      <td>NaN</td>\n",
       "      <td>NaN</td>\n",
       "      <td>NaN</td>\n",
       "      <td>NaN</td>\n",
       "      <td>NaN</td>\n",
       "    </tr>\n",
       "    <tr>\n",
       "      <th>126e9dd13932f68</th>\n",
       "      <td>17</td>\n",
       "      <td>negative</td>\n",
       "      <td>0</td>\n",
       "      <td>0</td>\n",
       "      <td>0</td>\n",
       "      <td>0.236515</td>\n",
       "      <td>-0.02234</td>\n",
       "      <td>-0.517413</td>\n",
       "      <td>0.010677</td>\n",
       "      <td>0.102004</td>\n",
       "      <td>...</td>\n",
       "      <td>NaN</td>\n",
       "      <td>NaN</td>\n",
       "      <td>NaN</td>\n",
       "      <td>NaN</td>\n",
       "      <td>NaN</td>\n",
       "      <td>NaN</td>\n",
       "      <td>NaN</td>\n",
       "      <td>NaN</td>\n",
       "      <td>NaN</td>\n",
       "      <td>NaN</td>\n",
       "    </tr>\n",
       "    <tr>\n",
       "      <th>a46b4402a0e5696</th>\n",
       "      <td>8</td>\n",
       "      <td>negative</td>\n",
       "      <td>0</td>\n",
       "      <td>0</td>\n",
       "      <td>0</td>\n",
       "      <td>NaN</td>\n",
       "      <td>NaN</td>\n",
       "      <td>NaN</td>\n",
       "      <td>NaN</td>\n",
       "      <td>NaN</td>\n",
       "      <td>...</td>\n",
       "      <td>NaN</td>\n",
       "      <td>NaN</td>\n",
       "      <td>NaN</td>\n",
       "      <td>NaN</td>\n",
       "      <td>NaN</td>\n",
       "      <td>NaN</td>\n",
       "      <td>NaN</td>\n",
       "      <td>NaN</td>\n",
       "      <td>NaN</td>\n",
       "      <td>NaN</td>\n",
       "    </tr>\n",
       "    <tr>\n",
       "      <th>f7d619a94f97c45</th>\n",
       "      <td>5</td>\n",
       "      <td>negative</td>\n",
       "      <td>0</td>\n",
       "      <td>0</td>\n",
       "      <td>0</td>\n",
       "      <td>NaN</td>\n",
       "      <td>NaN</td>\n",
       "      <td>NaN</td>\n",
       "      <td>NaN</td>\n",
       "      <td>NaN</td>\n",
       "      <td>...</td>\n",
       "      <td>NaN</td>\n",
       "      <td>NaN</td>\n",
       "      <td>NaN</td>\n",
       "      <td>NaN</td>\n",
       "      <td>NaN</td>\n",
       "      <td>NaN</td>\n",
       "      <td>NaN</td>\n",
       "      <td>NaN</td>\n",
       "      <td>NaN</td>\n",
       "      <td>NaN</td>\n",
       "    </tr>\n",
       "    <tr>\n",
       "      <th>d9e41465789c2b5</th>\n",
       "      <td>15</td>\n",
       "      <td>negative</td>\n",
       "      <td>0</td>\n",
       "      <td>0</td>\n",
       "      <td>0</td>\n",
       "      <td>NaN</td>\n",
       "      <td>NaN</td>\n",
       "      <td>NaN</td>\n",
       "      <td>NaN</td>\n",
       "      <td>NaN</td>\n",
       "      <td>...</td>\n",
       "      <td>NaN</td>\n",
       "      <td>NaN</td>\n",
       "      <td>NaN</td>\n",
       "      <td>NaN</td>\n",
       "      <td>NaN</td>\n",
       "      <td>NaN</td>\n",
       "      <td>NaN</td>\n",
       "      <td>NaN</td>\n",
       "      <td>NaN</td>\n",
       "      <td>NaN</td>\n",
       "    </tr>\n",
       "  </tbody>\n",
       "</table>\n",
       "<p>5 rows × 110 columns</p>\n",
       "</div>"
      ],
      "text/plain": [
       "                 Patient age quantile SARS-Cov-2 exam result  \\\n",
       "Patient ID                                                     \n",
       "44477f75e8169d2                    13               negative   \n",
       "126e9dd13932f68                    17               negative   \n",
       "a46b4402a0e5696                     8               negative   \n",
       "f7d619a94f97c45                     5               negative   \n",
       "d9e41465789c2b5                    15               negative   \n",
       "\n",
       "                 Patient addmited to regular ward (1=yes, 0=no)  \\\n",
       "Patient ID                                                        \n",
       "44477f75e8169d2                                               0   \n",
       "126e9dd13932f68                                               0   \n",
       "a46b4402a0e5696                                               0   \n",
       "f7d619a94f97c45                                               0   \n",
       "d9e41465789c2b5                                               0   \n",
       "\n",
       "                 Patient addmited to semi-intensive unit (1=yes, 0=no)  \\\n",
       "Patient ID                                                               \n",
       "44477f75e8169d2                                                  0       \n",
       "126e9dd13932f68                                                  0       \n",
       "a46b4402a0e5696                                                  0       \n",
       "f7d619a94f97c45                                                  0       \n",
       "d9e41465789c2b5                                                  0       \n",
       "\n",
       "                 Patient addmited to intensive care unit (1=yes, 0=no)  \\\n",
       "Patient ID                                                               \n",
       "44477f75e8169d2                                                  0       \n",
       "126e9dd13932f68                                                  0       \n",
       "a46b4402a0e5696                                                  0       \n",
       "f7d619a94f97c45                                                  0       \n",
       "d9e41465789c2b5                                                  0       \n",
       "\n",
       "                 Hematocrit  Hemoglobin  Platelets  Mean platelet volume   \\\n",
       "Patient ID                                                                  \n",
       "44477f75e8169d2         NaN         NaN        NaN                    NaN   \n",
       "126e9dd13932f68    0.236515    -0.02234  -0.517413               0.010677   \n",
       "a46b4402a0e5696         NaN         NaN        NaN                    NaN   \n",
       "f7d619a94f97c45         NaN         NaN        NaN                    NaN   \n",
       "d9e41465789c2b5         NaN         NaN        NaN                    NaN   \n",
       "\n",
       "                 Red blood Cells  ...  Hb saturation (arterial blood gases)  \\\n",
       "Patient ID                        ...                                         \n",
       "44477f75e8169d2              NaN  ...                                   NaN   \n",
       "126e9dd13932f68         0.102004  ...                                   NaN   \n",
       "a46b4402a0e5696              NaN  ...                                   NaN   \n",
       "f7d619a94f97c45              NaN  ...                                   NaN   \n",
       "d9e41465789c2b5              NaN  ...                                   NaN   \n",
       "\n",
       "                 pCO2 (arterial blood gas analysis)  \\\n",
       "Patient ID                                            \n",
       "44477f75e8169d2                                 NaN   \n",
       "126e9dd13932f68                                 NaN   \n",
       "a46b4402a0e5696                                 NaN   \n",
       "f7d619a94f97c45                                 NaN   \n",
       "d9e41465789c2b5                                 NaN   \n",
       "\n",
       "                 Base excess (arterial blood gas analysis)  \\\n",
       "Patient ID                                                   \n",
       "44477f75e8169d2                                        NaN   \n",
       "126e9dd13932f68                                        NaN   \n",
       "a46b4402a0e5696                                        NaN   \n",
       "f7d619a94f97c45                                        NaN   \n",
       "d9e41465789c2b5                                        NaN   \n",
       "\n",
       "                 pH (arterial blood gas analysis)  \\\n",
       "Patient ID                                          \n",
       "44477f75e8169d2                               NaN   \n",
       "126e9dd13932f68                               NaN   \n",
       "a46b4402a0e5696                               NaN   \n",
       "f7d619a94f97c45                               NaN   \n",
       "d9e41465789c2b5                               NaN   \n",
       "\n",
       "                 Total CO2 (arterial blood gas analysis)  \\\n",
       "Patient ID                                                 \n",
       "44477f75e8169d2                                      NaN   \n",
       "126e9dd13932f68                                      NaN   \n",
       "a46b4402a0e5696                                      NaN   \n",
       "f7d619a94f97c45                                      NaN   \n",
       "d9e41465789c2b5                                      NaN   \n",
       "\n",
       "                 HCO3 (arterial blood gas analysis)  \\\n",
       "Patient ID                                            \n",
       "44477f75e8169d2                                 NaN   \n",
       "126e9dd13932f68                                 NaN   \n",
       "a46b4402a0e5696                                 NaN   \n",
       "f7d619a94f97c45                                 NaN   \n",
       "d9e41465789c2b5                                 NaN   \n",
       "\n",
       "                 pO2 (arterial blood gas analysis)  Arteiral Fio2  Phosphor  \\\n",
       "Patient ID                                                                    \n",
       "44477f75e8169d2                                NaN            NaN       NaN   \n",
       "126e9dd13932f68                                NaN            NaN       NaN   \n",
       "a46b4402a0e5696                                NaN            NaN       NaN   \n",
       "f7d619a94f97c45                                NaN            NaN       NaN   \n",
       "d9e41465789c2b5                                NaN            NaN       NaN   \n",
       "\n",
       "                 ctO2 (arterial blood gas analysis)  \n",
       "Patient ID                                           \n",
       "44477f75e8169d2                                 NaN  \n",
       "126e9dd13932f68                                 NaN  \n",
       "a46b4402a0e5696                                 NaN  \n",
       "f7d619a94f97c45                                 NaN  \n",
       "d9e41465789c2b5                                 NaN  \n",
       "\n",
       "[5 rows x 110 columns]"
      ]
     },
     "execution_count": 109,
     "metadata": {},
     "output_type": "execute_result"
    }
   ],
   "source": [
    "df = data.copy()\n",
    "df.head()"
   ]
  },
  {
   "cell_type": "markdown",
   "metadata": {
    "colab_type": "text",
    "id": "wQhHMFpnIbCl"
   },
   "source": [
    "## Create feature subsets (from our EDA)"
   ]
  },
  {
   "cell_type": "code",
   "execution_count": 110,
   "metadata": {
    "colab": {},
    "colab_type": "code",
    "id": "8G1piKjXIbCl"
   },
   "outputs": [],
   "source": [
    "missing_rate = df.isna().sum()/df.shape[0]"
   ]
  },
  {
   "cell_type": "code",
   "execution_count": 111,
   "metadata": {
    "colab": {},
    "colab_type": "code",
    "id": "6kV9CmIGIbCn"
   },
   "outputs": [],
   "source": [
    "blood_columns = list(df.columns[(missing_rate < 0.9) & (missing_rate >0.88)])\n",
    "viral_columns = list(df.columns[(missing_rate < 0.80) & (missing_rate > 0.75)])"
   ]
  },
  {
   "cell_type": "code",
   "execution_count": 112,
   "metadata": {
    "colab": {},
    "colab_type": "code",
    "id": "Bh9hD72bIbCp"
   },
   "outputs": [],
   "source": [
    "key_columns = ['Patient age quantile', 'SARS-Cov-2 exam result']"
   ]
  },
  {
   "cell_type": "code",
   "execution_count": 113,
   "metadata": {
    "colab": {
     "base_uri": "https://localhost:8080/",
     "height": 306
    },
    "colab_type": "code",
    "id": "Eiy9tLeLIbCr",
    "outputId": "0fbc44dd-105b-4397-94f1-8e72d8ea8967"
   },
   "outputs": [
    {
     "data": {
      "text/html": [
       "<div>\n",
       "<style scoped>\n",
       "    .dataframe tbody tr th:only-of-type {\n",
       "        vertical-align: middle;\n",
       "    }\n",
       "\n",
       "    .dataframe tbody tr th {\n",
       "        vertical-align: top;\n",
       "    }\n",
       "\n",
       "    .dataframe thead th {\n",
       "        text-align: right;\n",
       "    }\n",
       "</style>\n",
       "<table border=\"1\" class=\"dataframe\">\n",
       "  <thead>\n",
       "    <tr style=\"text-align: right;\">\n",
       "      <th></th>\n",
       "      <th>Patient age quantile</th>\n",
       "      <th>SARS-Cov-2 exam result</th>\n",
       "      <th>Hematocrit</th>\n",
       "      <th>Hemoglobin</th>\n",
       "      <th>Platelets</th>\n",
       "      <th>Mean platelet volume</th>\n",
       "      <th>Red blood Cells</th>\n",
       "      <th>Lymphocytes</th>\n",
       "      <th>Mean corpuscular hemoglobin concentration (MCHC)</th>\n",
       "      <th>Leukocytes</th>\n",
       "      <th>...</th>\n",
       "      <th>Parainfluenza 3</th>\n",
       "      <th>Chlamydophila pneumoniae</th>\n",
       "      <th>Adenovirus</th>\n",
       "      <th>Parainfluenza 4</th>\n",
       "      <th>Coronavirus229E</th>\n",
       "      <th>CoronavirusOC43</th>\n",
       "      <th>Inf A H1N1 2009</th>\n",
       "      <th>Bordetella pertussis</th>\n",
       "      <th>Metapneumovirus</th>\n",
       "      <th>Parainfluenza 2</th>\n",
       "    </tr>\n",
       "    <tr>\n",
       "      <th>Patient ID</th>\n",
       "      <th></th>\n",
       "      <th></th>\n",
       "      <th></th>\n",
       "      <th></th>\n",
       "      <th></th>\n",
       "      <th></th>\n",
       "      <th></th>\n",
       "      <th></th>\n",
       "      <th></th>\n",
       "      <th></th>\n",
       "      <th></th>\n",
       "      <th></th>\n",
       "      <th></th>\n",
       "      <th></th>\n",
       "      <th></th>\n",
       "      <th></th>\n",
       "      <th></th>\n",
       "      <th></th>\n",
       "      <th></th>\n",
       "      <th></th>\n",
       "      <th></th>\n",
       "    </tr>\n",
       "  </thead>\n",
       "  <tbody>\n",
       "    <tr>\n",
       "      <th>44477f75e8169d2</th>\n",
       "      <td>13</td>\n",
       "      <td>negative</td>\n",
       "      <td>NaN</td>\n",
       "      <td>NaN</td>\n",
       "      <td>NaN</td>\n",
       "      <td>NaN</td>\n",
       "      <td>NaN</td>\n",
       "      <td>NaN</td>\n",
       "      <td>NaN</td>\n",
       "      <td>NaN</td>\n",
       "      <td>...</td>\n",
       "      <td>NaN</td>\n",
       "      <td>NaN</td>\n",
       "      <td>NaN</td>\n",
       "      <td>NaN</td>\n",
       "      <td>NaN</td>\n",
       "      <td>NaN</td>\n",
       "      <td>NaN</td>\n",
       "      <td>NaN</td>\n",
       "      <td>NaN</td>\n",
       "      <td>NaN</td>\n",
       "    </tr>\n",
       "    <tr>\n",
       "      <th>126e9dd13932f68</th>\n",
       "      <td>17</td>\n",
       "      <td>negative</td>\n",
       "      <td>0.236515</td>\n",
       "      <td>-0.02234</td>\n",
       "      <td>-0.517413</td>\n",
       "      <td>0.010677</td>\n",
       "      <td>0.102004</td>\n",
       "      <td>0.318366</td>\n",
       "      <td>-0.95079</td>\n",
       "      <td>-0.09461</td>\n",
       "      <td>...</td>\n",
       "      <td>not_detected</td>\n",
       "      <td>not_detected</td>\n",
       "      <td>not_detected</td>\n",
       "      <td>not_detected</td>\n",
       "      <td>not_detected</td>\n",
       "      <td>not_detected</td>\n",
       "      <td>not_detected</td>\n",
       "      <td>not_detected</td>\n",
       "      <td>not_detected</td>\n",
       "      <td>not_detected</td>\n",
       "    </tr>\n",
       "    <tr>\n",
       "      <th>a46b4402a0e5696</th>\n",
       "      <td>8</td>\n",
       "      <td>negative</td>\n",
       "      <td>NaN</td>\n",
       "      <td>NaN</td>\n",
       "      <td>NaN</td>\n",
       "      <td>NaN</td>\n",
       "      <td>NaN</td>\n",
       "      <td>NaN</td>\n",
       "      <td>NaN</td>\n",
       "      <td>NaN</td>\n",
       "      <td>...</td>\n",
       "      <td>NaN</td>\n",
       "      <td>NaN</td>\n",
       "      <td>NaN</td>\n",
       "      <td>NaN</td>\n",
       "      <td>NaN</td>\n",
       "      <td>NaN</td>\n",
       "      <td>NaN</td>\n",
       "      <td>NaN</td>\n",
       "      <td>NaN</td>\n",
       "      <td>NaN</td>\n",
       "    </tr>\n",
       "    <tr>\n",
       "      <th>f7d619a94f97c45</th>\n",
       "      <td>5</td>\n",
       "      <td>negative</td>\n",
       "      <td>NaN</td>\n",
       "      <td>NaN</td>\n",
       "      <td>NaN</td>\n",
       "      <td>NaN</td>\n",
       "      <td>NaN</td>\n",
       "      <td>NaN</td>\n",
       "      <td>NaN</td>\n",
       "      <td>NaN</td>\n",
       "      <td>...</td>\n",
       "      <td>NaN</td>\n",
       "      <td>NaN</td>\n",
       "      <td>NaN</td>\n",
       "      <td>NaN</td>\n",
       "      <td>NaN</td>\n",
       "      <td>NaN</td>\n",
       "      <td>NaN</td>\n",
       "      <td>NaN</td>\n",
       "      <td>NaN</td>\n",
       "      <td>NaN</td>\n",
       "    </tr>\n",
       "    <tr>\n",
       "      <th>d9e41465789c2b5</th>\n",
       "      <td>15</td>\n",
       "      <td>negative</td>\n",
       "      <td>NaN</td>\n",
       "      <td>NaN</td>\n",
       "      <td>NaN</td>\n",
       "      <td>NaN</td>\n",
       "      <td>NaN</td>\n",
       "      <td>NaN</td>\n",
       "      <td>NaN</td>\n",
       "      <td>NaN</td>\n",
       "      <td>...</td>\n",
       "      <td>not_detected</td>\n",
       "      <td>not_detected</td>\n",
       "      <td>not_detected</td>\n",
       "      <td>not_detected</td>\n",
       "      <td>not_detected</td>\n",
       "      <td>not_detected</td>\n",
       "      <td>not_detected</td>\n",
       "      <td>not_detected</td>\n",
       "      <td>not_detected</td>\n",
       "      <td>not_detected</td>\n",
       "    </tr>\n",
       "  </tbody>\n",
       "</table>\n",
       "<p>5 rows × 33 columns</p>\n",
       "</div>"
      ],
      "text/plain": [
       "                 Patient age quantile SARS-Cov-2 exam result  Hematocrit  \\\n",
       "Patient ID                                                                 \n",
       "44477f75e8169d2                    13               negative         NaN   \n",
       "126e9dd13932f68                    17               negative    0.236515   \n",
       "a46b4402a0e5696                     8               negative         NaN   \n",
       "f7d619a94f97c45                     5               negative         NaN   \n",
       "d9e41465789c2b5                    15               negative         NaN   \n",
       "\n",
       "                 Hemoglobin  Platelets  Mean platelet volume   \\\n",
       "Patient ID                                                      \n",
       "44477f75e8169d2         NaN        NaN                    NaN   \n",
       "126e9dd13932f68    -0.02234  -0.517413               0.010677   \n",
       "a46b4402a0e5696         NaN        NaN                    NaN   \n",
       "f7d619a94f97c45         NaN        NaN                    NaN   \n",
       "d9e41465789c2b5         NaN        NaN                    NaN   \n",
       "\n",
       "                 Red blood Cells  Lymphocytes  \\\n",
       "Patient ID                                      \n",
       "44477f75e8169d2              NaN          NaN   \n",
       "126e9dd13932f68         0.102004     0.318366   \n",
       "a46b4402a0e5696              NaN          NaN   \n",
       "f7d619a94f97c45              NaN          NaN   \n",
       "d9e41465789c2b5              NaN          NaN   \n",
       "\n",
       "                 Mean corpuscular hemoglobin concentration (MCHC)  Leukocytes  \\\n",
       "Patient ID                                                                      \n",
       "44477f75e8169d2                                               NaN         NaN   \n",
       "126e9dd13932f68                                          -0.95079    -0.09461   \n",
       "a46b4402a0e5696                                               NaN         NaN   \n",
       "f7d619a94f97c45                                               NaN         NaN   \n",
       "d9e41465789c2b5                                               NaN         NaN   \n",
       "\n",
       "                 ...  Parainfluenza 3  Chlamydophila pneumoniae    Adenovirus  \\\n",
       "Patient ID       ...                                                            \n",
       "44477f75e8169d2  ...              NaN                       NaN           NaN   \n",
       "126e9dd13932f68  ...     not_detected              not_detected  not_detected   \n",
       "a46b4402a0e5696  ...              NaN                       NaN           NaN   \n",
       "f7d619a94f97c45  ...              NaN                       NaN           NaN   \n",
       "d9e41465789c2b5  ...     not_detected              not_detected  not_detected   \n",
       "\n",
       "                 Parainfluenza 4  Coronavirus229E  CoronavirusOC43  \\\n",
       "Patient ID                                                           \n",
       "44477f75e8169d2              NaN              NaN              NaN   \n",
       "126e9dd13932f68     not_detected     not_detected     not_detected   \n",
       "a46b4402a0e5696              NaN              NaN              NaN   \n",
       "f7d619a94f97c45              NaN              NaN              NaN   \n",
       "d9e41465789c2b5     not_detected     not_detected     not_detected   \n",
       "\n",
       "                Inf A H1N1 2009 Bordetella pertussis Metapneumovirus  \\\n",
       "Patient ID                                                             \n",
       "44477f75e8169d2             NaN                  NaN             NaN   \n",
       "126e9dd13932f68    not_detected         not_detected    not_detected   \n",
       "a46b4402a0e5696             NaN                  NaN             NaN   \n",
       "f7d619a94f97c45             NaN                  NaN             NaN   \n",
       "d9e41465789c2b5    not_detected         not_detected    not_detected   \n",
       "\n",
       "                Parainfluenza 2  \n",
       "Patient ID                       \n",
       "44477f75e8169d2             NaN  \n",
       "126e9dd13932f68    not_detected  \n",
       "a46b4402a0e5696             NaN  \n",
       "f7d619a94f97c45             NaN  \n",
       "d9e41465789c2b5    not_detected  \n",
       "\n",
       "[5 rows x 33 columns]"
      ]
     },
     "execution_count": 113,
     "metadata": {},
     "output_type": "execute_result"
    }
   ],
   "source": [
    "df = df[key_columns + blood_columns + viral_columns]\n",
    "df.head()"
   ]
  },
  {
   "cell_type": "markdown",
   "metadata": {
    "colab_type": "text",
    "id": "vLL2wMjXIbCt"
   },
   "source": [
    "## TrainTest - Cleaning - Encoding"
   ]
  },
  {
   "cell_type": "code",
   "execution_count": 114,
   "metadata": {
    "colab": {},
    "colab_type": "code",
    "id": "gr0yL_tNIbCt"
   },
   "outputs": [],
   "source": [
    "from sklearn.model_selection import train_test_split"
   ]
  },
  {
   "cell_type": "code",
   "execution_count": 115,
   "metadata": {
    "colab": {},
    "colab_type": "code",
    "id": "oDcImqzIIbCv"
   },
   "outputs": [],
   "source": [
    "trainset, testset = train_test_split(df, test_size=0.2, random_state=0)"
   ]
  },
  {
   "cell_type": "code",
   "execution_count": 116,
   "metadata": {
    "colab": {
     "base_uri": "https://localhost:8080/",
     "height": 68
    },
    "colab_type": "code",
    "id": "la2nNYZnIbCw",
    "outputId": "d5b62317-d261-4ade-e3a6-8c4b8e85ed68"
   },
   "outputs": [
    {
     "data": {
      "text/plain": [
       "negative    4068\n",
       "positive     447\n",
       "Name: SARS-Cov-2 exam result, dtype: int64"
      ]
     },
     "execution_count": 116,
     "metadata": {},
     "output_type": "execute_result"
    }
   ],
   "source": [
    "trainset['SARS-Cov-2 exam result'].value_counts()"
   ]
  },
  {
   "cell_type": "code",
   "execution_count": 117,
   "metadata": {
    "colab": {
     "base_uri": "https://localhost:8080/",
     "height": 68
    },
    "colab_type": "code",
    "id": "_k9wwJPSIbCy",
    "outputId": "a81d5ac5-6e51-43e1-a7b1-3505cc90c0c5"
   },
   "outputs": [
    {
     "data": {
      "text/plain": [
       "negative    1018\n",
       "positive     111\n",
       "Name: SARS-Cov-2 exam result, dtype: int64"
      ]
     },
     "execution_count": 117,
     "metadata": {},
     "output_type": "execute_result"
    }
   ],
   "source": [
    "testset['SARS-Cov-2 exam result'].value_counts()"
   ]
  },
  {
   "cell_type": "code",
   "execution_count": 118,
   "metadata": {
    "colab": {},
    "colab_type": "code",
    "id": "lw5qiCAMIbC0"
   },
   "outputs": [],
   "source": [
    "def encoding(df):\n",
    "    code = {'negative':0,\n",
    "            'positive':1,\n",
    "            'not_detected':0,\n",
    "            'detected':1}\n",
    "    \n",
    "    for col in df.select_dtypes('object').columns:\n",
    "        df.loc[:,col] = df[col].map(code)\n",
    "        \n",
    "    return df"
   ]
  },
  {
   "cell_type": "code",
   "execution_count": 119,
   "metadata": {
    "colab": {},
    "colab_type": "code",
    "id": "sGi8jRQHIbC2"
   },
   "outputs": [],
   "source": [
    "def feature_engineering(df):\n",
    "    df['is sick'] = df[viral_columns].sum(axis=1) >= 1\n",
    "    df = df.drop(viral_columns, axis=1)\n",
    "    return df"
   ]
  },
  {
   "cell_type": "code",
   "execution_count": 120,
   "metadata": {
    "colab": {},
    "colab_type": "code",
    "id": "LX0iJidYIbC3"
   },
   "outputs": [],
   "source": [
    "def imputation(df):\n",
    "    df = df.dropna(axis=0)\n",
    "    return  df"
   ]
  },
  {
   "cell_type": "code",
   "execution_count": 121,
   "metadata": {
    "colab": {},
    "colab_type": "code",
    "id": "YIG24Y-lIbC6"
   },
   "outputs": [],
   "source": [
    "def preprocessing(df):\n",
    "    \n",
    "    df = encoding(df)\n",
    "    df = feature_engineering(df)\n",
    "    df = imputation(df)\n",
    "    \n",
    "    X = df.drop('SARS-Cov-2 exam result', axis=1)\n",
    "    y = df['SARS-Cov-2 exam result']\n",
    "    \n",
    "    print(y.value_counts())\n",
    "    \n",
    "    return X, y"
   ]
  },
  {
   "cell_type": "code",
   "execution_count": 122,
   "metadata": {
    "colab": {
     "base_uri": "https://localhost:8080/",
     "height": 272
    },
    "colab_type": "code",
    "id": "_Kjv5JOZIbC8",
    "outputId": "87a4c8be-0daa-42fd-f8d5-a32e53733e2b"
   },
   "outputs": [
    {
     "name": "stdout",
     "output_type": "stream",
     "text": [
      "0    422\n",
      "1     65\n",
      "Name: SARS-Cov-2 exam result, dtype: int64\n"
     ]
    },
    {
     "name": "stderr",
     "output_type": "stream",
     "text": [
      "C:\\ProgramData\\Anaconda3\\lib\\site-packages\\pandas\\core\\indexing.py:966: SettingWithCopyWarning: \n",
      "A value is trying to be set on a copy of a slice from a DataFrame.\n",
      "Try using .loc[row_indexer,col_indexer] = value instead\n",
      "\n",
      "See the caveats in the documentation: https://pandas.pydata.org/pandas-docs/stable/user_guide/indexing.html#returning-a-view-versus-a-copy\n",
      "  self.obj[item] = s\n",
      "C:\\ProgramData\\Anaconda3\\lib\\site-packages\\ipykernel_launcher.py:2: SettingWithCopyWarning: \n",
      "A value is trying to be set on a copy of a slice from a DataFrame.\n",
      "Try using .loc[row_indexer,col_indexer] = value instead\n",
      "\n",
      "See the caveats in the documentation: https://pandas.pydata.org/pandas-docs/stable/user_guide/indexing.html#returning-a-view-versus-a-copy\n",
      "  \n"
     ]
    }
   ],
   "source": [
    "X_train, y_train = preprocessing(trainset)"
   ]
  },
  {
   "cell_type": "code",
   "execution_count": 123,
   "metadata": {
    "colab": {
     "base_uri": "https://localhost:8080/",
     "height": 272
    },
    "colab_type": "code",
    "id": "WvUAMK3AIbC-",
    "outputId": "162c750e-39b9-4083-ce2c-38d5e28f0294"
   },
   "outputs": [
    {
     "name": "stdout",
     "output_type": "stream",
     "text": [
      "0    95\n",
      "1    16\n",
      "Name: SARS-Cov-2 exam result, dtype: int64\n"
     ]
    },
    {
     "name": "stderr",
     "output_type": "stream",
     "text": [
      "C:\\ProgramData\\Anaconda3\\lib\\site-packages\\ipykernel_launcher.py:2: SettingWithCopyWarning: \n",
      "A value is trying to be set on a copy of a slice from a DataFrame.\n",
      "Try using .loc[row_indexer,col_indexer] = value instead\n",
      "\n",
      "See the caveats in the documentation: https://pandas.pydata.org/pandas-docs/stable/user_guide/indexing.html#returning-a-view-versus-a-copy\n",
      "  \n"
     ]
    }
   ],
   "source": [
    "X_test, y_test = preprocessing(testset)"
   ]
  },
  {
   "cell_type": "markdown",
   "metadata": {
    "colab_type": "text",
    "id": "FwHiz5mzIbDM"
   },
   "source": [
    "## Evaluate"
   ]
  },
  {
   "cell_type": "code",
   "execution_count": 124,
   "metadata": {
    "colab": {},
    "colab_type": "code",
    "id": "VSs5YAMUIbDM"
   },
   "outputs": [],
   "source": [
    "from sklearn.metrics import f1_score, confusion_matrix, classification_report\n",
    "from sklearn.model_selection import learning_curve"
   ]
  },
  {
   "cell_type": "code",
   "execution_count": 125,
   "metadata": {
    "colab": {},
    "colab_type": "code",
    "id": "iwrO3--hIbDN"
   },
   "outputs": [],
   "source": [
    "def evaluation(model):\n",
    "    \n",
    "    model.fit(X_train, y_train)\n",
    "    ypred = model.predict(X_test)\n",
    "    \n",
    "    print(confusion_matrix(y_test, ypred))\n",
    "    print(classification_report(y_test, ypred))\n",
    "    \n",
    "    N, train_score, val_score = learning_curve(model, X_train, y_train,\n",
    "                                              cv=4, scoring='f1',\n",
    "                                               train_sizes=np.linspace(0.1, 1, 10))\n",
    "    \n",
    "    \n",
    "    plt.figure(figsize=(12, 8))\n",
    "    plt.plot(N, train_score.mean(axis=1), label='train score')\n",
    "    plt.plot(N, val_score.mean(axis=1), label='validation score')\n",
    "    plt.legend()"
   ]
  },
  {
   "cell_type": "markdown",
   "metadata": {
    "colab_type": "text",
    "id": "E0nnq_AMIbC_"
   },
   "source": [
    "## Model Selection"
   ]
  },
  {
   "cell_type": "code",
   "execution_count": 126,
   "metadata": {
    "colab": {},
    "colab_type": "code",
    "id": "otAEOyA8IbC_"
   },
   "outputs": [],
   "source": [
    "from sklearn.tree import DecisionTreeClassifier\n",
    "from sklearn.ensemble import RandomForestClassifier, AdaBoostClassifier\n",
    "from sklearn.svm import SVC\n",
    "from sklearn.neighbors import KNeighborsClassifier\n",
    "from sklearn.pipeline import make_pipeline\n",
    "from sklearn.feature_selection import SelectKBest, f_classif\n",
    "from sklearn.preprocessing import PolynomialFeatures, StandardScaler"
   ]
  },
  {
   "cell_type": "code",
   "execution_count": 127,
   "metadata": {
    "colab": {},
    "colab_type": "code",
    "id": "9qTRLbWAIbDC"
   },
   "outputs": [],
   "source": [
    "preprocessor = make_pipeline(PolynomialFeatures(2, include_bias=False), SelectKBest(f_classif, k=10))"
   ]
  },
  {
   "cell_type": "code",
   "execution_count": 128,
   "metadata": {
    "colab": {},
    "colab_type": "code",
    "id": "Lj3tKPn_IbDE"
   },
   "outputs": [],
   "source": [
    "RandomForest = make_pipeline(preprocessor, RandomForestClassifier())\n",
    "AdaBoost = make_pipeline(preprocessor, AdaBoostClassifier())\n",
    "SVM = make_pipeline(preprocessor, StandardScaler(), SVC())\n",
    "KNN = make_pipeline(preprocessor, StandardScaler(), KNeighborsClassifier())"
   ]
  },
  {
   "cell_type": "code",
   "execution_count": 129,
   "metadata": {
    "colab": {},
    "colab_type": "code",
    "id": "WcH84TtXIbDF"
   },
   "outputs": [],
   "source": [
    "dict_of_models = {'RandomForest': RandomForest,\n",
    "                  'AdaBoost' : AdaBoost,\n",
    "                  'SVM': SVM,\n",
    "                  'KNN': KNN\n",
    "                 }"
   ]
  },
  {
   "cell_type": "code",
   "execution_count": 130,
   "metadata": {
    "colab": {
     "base_uri": "https://localhost:8080/",
     "height": 1000
    },
    "colab_type": "code",
    "id": "BjITHlOmIbDH",
    "outputId": "071880f3-e28f-4159-ffd3-7d01232d462c",
    "scrolled": true
   },
   "outputs": [
    {
     "name": "stdout",
     "output_type": "stream",
     "text": [
      "RandomForest\n",
      "[[91  4]\n",
      " [10  6]]\n",
      "              precision    recall  f1-score   support\n",
      "\n",
      "           0       0.90      0.96      0.93        95\n",
      "           1       0.60      0.38      0.46        16\n",
      "\n",
      "    accuracy                           0.87       111\n",
      "   macro avg       0.75      0.67      0.70       111\n",
      "weighted avg       0.86      0.87      0.86       111\n",
      "\n",
      "AdaBoost\n",
      "[[91  4]\n",
      " [ 9  7]]\n",
      "              precision    recall  f1-score   support\n",
      "\n",
      "           0       0.91      0.96      0.93        95\n",
      "           1       0.64      0.44      0.52        16\n",
      "\n",
      "    accuracy                           0.88       111\n",
      "   macro avg       0.77      0.70      0.73       111\n",
      "weighted avg       0.87      0.88      0.87       111\n",
      "\n",
      "SVM\n",
      "[[92  3]\n",
      " [10  6]]\n",
      "              precision    recall  f1-score   support\n",
      "\n",
      "           0       0.90      0.97      0.93        95\n",
      "           1       0.67      0.38      0.48        16\n",
      "\n",
      "    accuracy                           0.88       111\n",
      "   macro avg       0.78      0.67      0.71       111\n",
      "weighted avg       0.87      0.88      0.87       111\n",
      "\n",
      "KNN\n",
      "[[88  7]\n",
      " [ 8  8]]\n",
      "              precision    recall  f1-score   support\n",
      "\n",
      "           0       0.92      0.93      0.92        95\n",
      "           1       0.53      0.50      0.52        16\n",
      "\n",
      "    accuracy                           0.86       111\n",
      "   macro avg       0.72      0.71      0.72       111\n",
      "weighted avg       0.86      0.86      0.86       111\n",
      "\n"
     ]
    },
    {
     "data": {
      "image/png": "[encoded data removed]",
      "text/plain": [
       "<Figure size 864x576 with 1 Axes>"
      ]
     },
     "metadata": {
      "needs_background": "light"
     },
     "output_type": "display_data"
    },
    {
     "data": {
      "image/png": "[encoded data removed]",
      "text/plain": [
       "<Figure size 864x576 with 1 Axes>"
      ]
     },
     "metadata": {
      "needs_background": "light"
     },
     "output_type": "display_data"
    },
    {
     "data": {
      "image/png": "[encoded data removed]",
      "text/plain": [
       "<Figure size 864x576 with 1 Axes>"
      ]
     },
     "metadata": {
      "needs_background": "light"
     },
     "output_type": "display_data"
    },
    {
     "data": {
      "image/png": "[encoded data removed]",
      "text/plain": [
       "<Figure size 864x576 with 1 Axes>"
      ]
     },
     "metadata": {
      "needs_background": "light"
     },
     "output_type": "display_data"
    }
   ],
   "source": [
    "for name, model in dict_of_models.items():\n",
    "    print(name)\n",
    "    evaluation(model)"
   ]
  },
  {
   "cell_type": "markdown",
   "metadata": {
    "colab_type": "text",
    "id": "8PRMD19oIbDP"
   },
   "source": [
    "## OPTIMIZATION"
   ]
  },
  {
   "cell_type": "markdown",
   "metadata": {},
   "source": [
    "Judging by the graph of the SVM, though it has the worst recall and f1 score, it appears to be least susceptible to overfitting, so may give more robust results should we wish to use it for future data. Let us see if we can optimize the recall score "
   ]
  },
  {
   "cell_type": "code",
   "execution_count": 131,
   "metadata": {
    "colab": {},
    "colab_type": "code",
    "id": "mvhgAM97IbDP"
   },
   "outputs": [],
   "source": [
    "from sklearn.model_selection import GridSearchCV, RandomizedSearchCV"
   ]
  },
  {
   "cell_type": "code",
   "execution_count": 132,
   "metadata": {
    "colab": {
     "base_uri": "https://localhost:8080/",
     "height": 374
    },
    "colab_type": "code",
    "id": "mQUwE8t8IbDR",
    "outputId": "47e07fdc-f683-4496-8ea4-daa4e55f803a"
   },
   "outputs": [
    {
     "data": {
      "text/plain": [
       "Pipeline(steps=[('pipeline',\n",
       "                 Pipeline(steps=[('polynomialfeatures',\n",
       "                                  PolynomialFeatures(include_bias=False)),\n",
       "                                 ('selectkbest', SelectKBest())])),\n",
       "                ('standardscaler', StandardScaler()), ('svc', SVC())])"
      ]
     },
     "execution_count": 132,
     "metadata": {},
     "output_type": "execute_result"
    }
   ],
   "source": [
    "SVM"
   ]
  },
  {
   "cell_type": "code",
   "execution_count": 133,
   "metadata": {
    "colab": {},
    "colab_type": "code",
    "id": "_nZM8KN1IbDS"
   },
   "outputs": [],
   "source": [
    "hyper_params = {'svc__gamma':[1e-3, 1e-4, 0.0005],\n",
    "                'svc__C':[1, 10, 100, 1000, 3000], \n",
    "               'pipeline__polynomialfeatures__degree':[2, 3],\n",
    "               'pipeline__selectkbest__k': range(45, 60)}"
   ]
  },
  {
   "cell_type": "code",
   "execution_count": 134,
   "metadata": {
    "colab": {
     "base_uri": "https://localhost:8080/",
     "height": 187
    },
    "colab_type": "code",
    "id": "fO-Q2IO7IbDU",
    "outputId": "8de8bb42-6f04-4ede-fe8e-9f23a411ce5d"
   },
   "outputs": [
    {
     "name": "stdout",
     "output_type": "stream",
     "text": [
      "{'svc__gamma': 0.0005, 'svc__C': 3000, 'pipeline__selectkbest__k': 47, 'pipeline__polynomialfeatures__degree': 3}\n",
      "              precision    recall  f1-score   support\n",
      "\n",
      "           0       0.92      0.96      0.94        95\n",
      "           1       0.67      0.50      0.57        16\n",
      "\n",
      "    accuracy                           0.89       111\n",
      "   macro avg       0.79      0.73      0.75       111\n",
      "weighted avg       0.88      0.89      0.89       111\n",
      "\n"
     ]
    }
   ],
   "source": [
    "grid = RandomizedSearchCV(SVM, hyper_params, scoring='recall', cv=4,\n",
    "                          n_iter=40)\n",
    "\n",
    "grid.fit(X_train, y_train)\n",
    "\n",
    "print(grid.best_params_)\n",
    "\n",
    "y_pred = grid.predict(X_test)\n",
    "\n",
    "print(classification_report(y_test, y_pred))"
   ]
  },
  {
   "cell_type": "code",
   "execution_count": 135,
   "metadata": {
    "colab": {
     "base_uri": "https://localhost:8080/",
     "height": 670
    },
    "colab_type": "code",
    "id": "MvfmIptjIbDV",
    "outputId": "4a06e7e9-cff4-435b-aead-93cabfa7a23b"
   },
   "outputs": [
    {
     "name": "stdout",
     "output_type": "stream",
     "text": [
      "[[91  4]\n",
      " [ 8  8]]\n",
      "              precision    recall  f1-score   support\n",
      "\n",
      "           0       0.92      0.96      0.94        95\n",
      "           1       0.67      0.50      0.57        16\n",
      "\n",
      "    accuracy                           0.89       111\n",
      "   macro avg       0.79      0.73      0.75       111\n",
      "weighted avg       0.88      0.89      0.89       111\n",
      "\n"
     ]
    },
    {
     "data": {
      "image/png": "[encoded data removed]",
      "text/plain": [
       "<Figure size 864x576 with 1 Axes>"
      ]
     },
     "metadata": {
      "needs_background": "light"
     },
     "output_type": "display_data"
    }
   ],
   "source": [
    "evaluation(grid.best_estimator_)"
   ]
  },
  {
   "cell_type": "markdown",
   "metadata": {
    "colab_type": "text",
    "id": "xDDvT5JdIbDX"
   },
   "source": [
    "## Precision Recall Curve"
   ]
  },
  {
   "cell_type": "code",
   "execution_count": 136,
   "metadata": {
    "colab": {},
    "colab_type": "code",
    "id": "5kSd_KEPIbDX"
   },
   "outputs": [],
   "source": [
    "from sklearn.metrics import precision_recall_curve"
   ]
  },
  {
   "cell_type": "code",
   "execution_count": 137,
   "metadata": {
    "colab": {},
    "colab_type": "code",
    "id": "rLxdwesqIbDY"
   },
   "outputs": [],
   "source": [
    "precision, recall, threshold = precision_recall_curve(y_test, grid.best_estimator_.decision_function(X_test))"
   ]
  },
  {
   "cell_type": "code",
   "execution_count": 138,
   "metadata": {
    "colab": {
     "base_uri": "https://localhost:8080/",
     "height": 282
    },
    "colab_type": "code",
    "id": "xz21-pRJIbDa",
    "outputId": "6eb105f6-6ceb-4480-b62d-cffc1de72374"
   },
   "outputs": [
    {
     "data": {
      "text/plain": [
       "<matplotlib.legend.Legend at 0x229fa52c648>"
      ]
     },
     "execution_count": 138,
     "metadata": {},
     "output_type": "execute_result"
    },
    {
     "data": {
      "image/png": "[encoded data removed]",
      "text/plain": [
       "<Figure size 432x288 with 1 Axes>"
      ]
     },
     "metadata": {
      "needs_background": "light"
     },
     "output_type": "display_data"
    }
   ],
   "source": [
    "plt.plot(threshold, precision[:-1], label='precision')\n",
    "plt.plot(threshold, recall[:-1], label='recall')\n",
    "plt.legend()"
   ]
  },
  {
   "cell_type": "code",
   "execution_count": 139,
   "metadata": {
    "colab": {},
    "colab_type": "code",
    "id": "F2R9W5Z7IbDb"
   },
   "outputs": [],
   "source": [
    "def model_final(model, X, threshold=0):\n",
    "    return model.decision_function(X) > threshold"
   ]
  },
  {
   "cell_type": "markdown",
   "metadata": {},
   "source": [
    "### Just eyeballing it, it appears that a threshold of -1 might be a good tradeoff between precision and recall, as we might want to focus on detecting positive cases over having an overall balance between precision and recall. Let us see what f1_score this corrsponds to."
   ]
  },
  {
   "cell_type": "code",
   "execution_count": 140,
   "metadata": {
    "colab": {},
    "colab_type": "code",
    "id": "0i-3X_r_IbDe"
   },
   "outputs": [],
   "source": [
    "y_pred = model_final(grid.best_estimator_, X_test, threshold=-1)"
   ]
  },
  {
   "cell_type": "code",
   "execution_count": 141,
   "metadata": {
    "colab": {},
    "colab_type": "code",
    "id": "UJ4F1aljIbDf"
   },
   "outputs": [],
   "source": [
    "from sklearn.metrics import recall_score"
   ]
  },
  {
   "cell_type": "code",
   "execution_count": 142,
   "metadata": {
    "colab": {
     "base_uri": "https://localhost:8080/",
     "height": 34
    },
    "colab_type": "code",
    "id": "zkqpdNE7IbDh",
    "outputId": "11b9a86a-7baf-49fb-f59c-b950a2e8c8a0"
   },
   "outputs": [
    {
     "data": {
      "text/plain": [
       "0.6"
      ]
     },
     "execution_count": 142,
     "metadata": {},
     "output_type": "execute_result"
    }
   ],
   "source": [
    "f1_score(y_test, y_pred)"
   ]
  },
  {
   "cell_type": "code",
   "execution_count": 143,
   "metadata": {
    "colab": {
     "base_uri": "https://localhost:8080/",
     "height": 34
    },
    "colab_type": "code",
    "id": "6w3j37sQIbDj",
    "outputId": "04002ffb-19b8-47fb-be75-f26b7300ae9b"
   },
   "outputs": [
    {
     "data": {
      "text/plain": [
       "0.75"
      ]
     },
     "execution_count": 143,
     "metadata": {},
     "output_type": "execute_result"
    }
   ],
   "source": [
    "recall_score(y_test, y_pred)"
   ]
  },
  {
   "cell_type": "markdown",
   "metadata": {},
   "source": [
    "### Not bad, but we may be able to do better, especially on the f1_score, as we had to sacrifice a lot of precision to get decent recall. First, let us try the same grid search on RandomForest to see if we can improve upon either of those results\n",
    "\n",
    "### We have to write a new evaluate function without a plot, as it takes too long to produce a plot with grid search."
   ]
  },
  {
   "cell_type": "code",
   "execution_count": 144,
   "metadata": {},
   "outputs": [],
   "source": [
    "def evaluationGrid(model):\n",
    "    \n",
    "    model.fit(X_train, y_train)\n",
    "    ypred = model.predict(X_test)\n",
    "    \n",
    "    print(confusion_matrix(y_test, ypred))\n",
    "    print(classification_report(y_test, ypred))"
   ]
  },
  {
   "cell_type": "code",
   "execution_count": 145,
   "metadata": {},
   "outputs": [
    {
     "name": "stdout",
     "output_type": "stream",
     "text": [
      "[[91  4]\n",
      " [10  6]]\n",
      "              precision    recall  f1-score   support\n",
      "\n",
      "           0       0.90      0.96      0.93        95\n",
      "           1       0.60      0.38      0.46        16\n",
      "\n",
      "    accuracy                           0.87       111\n",
      "   macro avg       0.75      0.67      0.70       111\n",
      "weighted avg       0.86      0.87      0.86       111\n",
      "\n",
      "{'n_estimators': 100, 'min_samples_split': 2, 'min_samples_leaf': 1, 'max_features': 10, 'max_depth': 16}\n"
     ]
    }
   ],
   "source": [
    "random_grid = {'n_estimators': [10, 50, 100, 200, 500],\n",
    "            'max_features': ['auto', 'sqrt', 'log2', 5, 10, 30],\n",
    "            'max_depth': [2, 8, 16, 32, 64, 128],\n",
    "            'min_samples_split': [1,2,4,8,16,24],\n",
    "            'min_samples_leaf': [1,2,5,10,15,30]}\n",
    "\n",
    "rf = RandomForestClassifier()\n",
    "rf_random = RandomizedSearchCV(estimator = rf, param_distributions = random_grid, \n",
    "                            n_iter = 300, cv = 4, scoring = 'recall', \n",
    "                            verbose=0, n_jobs = -1)\n",
    "\n",
    "evaluationGrid(rf_random)\n",
    "print(rf_random.best_params_)"
   ]
  },
  {
   "cell_type": "markdown",
   "metadata": {},
   "source": [
    "### That did not appear to improve our result at all. Indeed, We tried an SVM since it was the only classifier that initially did not produce an overfitted model, but it is possible we are going at this the wrong way. Random Forest and Adaboost overfit because our dataset after preprocessing is small enough that they can easily memorize the positive cases and classify along those lines. To prevent this overfitting from occuring, another trick we can use is SMOTE to oversample from the minority class in order to create more class balance, which can help our classifier between differentiate between the two classes. Let us try this on one of our classifiers that had overfitting issues, say Random Forest:"
   ]
  },
  {
   "cell_type": "code",
   "execution_count": 146,
   "metadata": {},
   "outputs": [],
   "source": [
    "from imblearn.over_sampling import SMOTE"
   ]
  },
  {
   "cell_type": "code",
   "execution_count": 147,
   "metadata": {},
   "outputs": [],
   "source": [
    "smt = SMOTE(k_neighbors=5)"
   ]
  },
  {
   "cell_type": "code",
   "execution_count": 148,
   "metadata": {},
   "outputs": [],
   "source": [
    "X_train, y_train = smt.fit_sample(X_train, y_train)"
   ]
  },
  {
   "cell_type": "markdown",
   "metadata": {},
   "source": [
    "### Let us check that our positives and negatives are even now"
   ]
  },
  {
   "cell_type": "code",
   "execution_count": 149,
   "metadata": {},
   "outputs": [
    {
     "data": {
      "text/plain": [
       "array([422, 422], dtype=int64)"
      ]
     },
     "execution_count": 149,
     "metadata": {},
     "output_type": "execute_result"
    }
   ],
   "source": [
    "np.bincount(y_train)"
   ]
  },
  {
   "cell_type": "markdown",
   "metadata": {},
   "source": [
    "### Great, let us try a Random Forest classifier on this new set:"
   ]
  },
  {
   "cell_type": "code",
   "execution_count": 152,
   "metadata": {},
   "outputs": [],
   "source": [
    "def evaluation(model):\n",
    "    \n",
    "    model.fit(X_train, y_train)\n",
    "    ypred = model.predict(X_test)\n",
    "    \n",
    "    print(confusion_matrix(y_test, ypred))\n",
    "    print(classification_report(y_test, ypred))\n",
    "    \n",
    "    N, train_score, val_score = learning_curve(model, X_train, y_train,\n",
    "                                              cv=4, scoring='recall',\n",
    "                                               train_sizes=np.linspace(0.1, 1, 10))\n",
    "    \n",
    "    \n",
    "    plt.figure(figsize=(12, 8))\n",
    "    plt.plot(N, train_score.mean(axis=1), label='train score')\n",
    "    plt.plot(N, val_score.mean(axis=1), label='validation score')\n",
    "    plt.legend()"
   ]
  },
  {
   "cell_type": "code",
   "execution_count": 153,
   "metadata": {},
   "outputs": [
    {
     "name": "stdout",
     "output_type": "stream",
     "text": [
      "[[87  8]\n",
      " [ 8  8]]\n",
      "              precision    recall  f1-score   support\n",
      "\n",
      "           0       0.92      0.92      0.92        95\n",
      "           1       0.50      0.50      0.50        16\n",
      "\n",
      "    accuracy                           0.86       111\n",
      "   macro avg       0.71      0.71      0.71       111\n",
      "weighted avg       0.86      0.86      0.86       111\n",
      "\n"
     ]
    },
    {
     "name": "stderr",
     "output_type": "stream",
     "text": [
      "C:\\ProgramData\\Anaconda3\\lib\\site-packages\\sklearn\\feature_selection\\_univariate_selection.py:110: RuntimeWarning: invalid value encountered in true_divide\n",
      "  msb = ssbn / float(dfbn)\n",
      "C:\\ProgramData\\Anaconda3\\lib\\site-packages\\sklearn\\metrics\\_classification.py:1221: UndefinedMetricWarning: Recall is ill-defined and being set to 0.0 due to no true samples. Use `zero_division` parameter to control this behavior.\n",
      "  _warn_prf(average, modifier, msg_start, len(result))\n",
      "C:\\ProgramData\\Anaconda3\\lib\\site-packages\\sklearn\\feature_selection\\_univariate_selection.py:110: RuntimeWarning: invalid value encountered in true_divide\n",
      "  msb = ssbn / float(dfbn)\n",
      "C:\\ProgramData\\Anaconda3\\lib\\site-packages\\sklearn\\metrics\\_classification.py:1221: UndefinedMetricWarning: Recall is ill-defined and being set to 0.0 due to no true samples. Use `zero_division` parameter to control this behavior.\n",
      "  _warn_prf(average, modifier, msg_start, len(result))\n",
      "C:\\ProgramData\\Anaconda3\\lib\\site-packages\\sklearn\\feature_selection\\_univariate_selection.py:110: RuntimeWarning: invalid value encountered in true_divide\n",
      "  msb = ssbn / float(dfbn)\n",
      "C:\\ProgramData\\Anaconda3\\lib\\site-packages\\sklearn\\metrics\\_classification.py:1221: UndefinedMetricWarning: Recall is ill-defined and being set to 0.0 due to no true samples. Use `zero_division` parameter to control this behavior.\n",
      "  _warn_prf(average, modifier, msg_start, len(result))\n",
      "C:\\ProgramData\\Anaconda3\\lib\\site-packages\\sklearn\\feature_selection\\_univariate_selection.py:110: RuntimeWarning: invalid value encountered in true_divide\n",
      "  msb = ssbn / float(dfbn)\n",
      "C:\\ProgramData\\Anaconda3\\lib\\site-packages\\sklearn\\metrics\\_classification.py:1221: UndefinedMetricWarning: Recall is ill-defined and being set to 0.0 due to no true samples. Use `zero_division` parameter to control this behavior.\n",
      "  _warn_prf(average, modifier, msg_start, len(result))\n",
      "C:\\ProgramData\\Anaconda3\\lib\\site-packages\\sklearn\\feature_selection\\_univariate_selection.py:110: RuntimeWarning: invalid value encountered in true_divide\n",
      "  msb = ssbn / float(dfbn)\n",
      "C:\\ProgramData\\Anaconda3\\lib\\site-packages\\sklearn\\metrics\\_classification.py:1221: UndefinedMetricWarning: Recall is ill-defined and being set to 0.0 due to no true samples. Use `zero_division` parameter to control this behavior.\n",
      "  _warn_prf(average, modifier, msg_start, len(result))\n"
     ]
    },
    {
     "data": {
      "image/png": "[encoded data removed]",
      "text/plain": [
       "<Figure size 864x576 with 1 Axes>"
      ]
     },
     "metadata": {
      "needs_background": "light"
     },
     "output_type": "display_data"
    }
   ],
   "source": [
    "evaluation(RandomForest)"
   ]
  },
  {
   "cell_type": "markdown",
   "metadata": {},
   "source": [
    "### Not as good as I had hoped. Though it certainly performs well on the validation set, and it does improve recall overall compared to the normal RandomForest, it does not improve recall to the point that it surpasses the SVM classifier. In a last ditch effort to salvage the Random Forest, let us try to use a grid search as well as SMOTE to find the best set of parameters for our Random Forest and see if we can surpass the SVM. Once we find the best set of parameters, we can also use this Random Forest in a majority vote ensemble method later."
   ]
  },
  {
   "cell_type": "code",
   "execution_count": 154,
   "metadata": {},
   "outputs": [
    {
     "name": "stdout",
     "output_type": "stream",
     "text": [
      "[[91  4]\n",
      " [ 9  7]]\n",
      "              precision    recall  f1-score   support\n",
      "\n",
      "           0       0.91      0.96      0.93        95\n",
      "           1       0.64      0.44      0.52        16\n",
      "\n",
      "    accuracy                           0.88       111\n",
      "   macro avg       0.77      0.70      0.73       111\n",
      "weighted avg       0.87      0.88      0.87       111\n",
      "\n",
      "{'n_estimators': 500, 'min_samples_split': 2, 'min_samples_leaf': 1, 'max_features': 'auto', 'max_depth': 32}\n"
     ]
    }
   ],
   "source": [
    "rf = RandomForestClassifier()\n",
    "rf_random = RandomizedSearchCV(estimator = rf, param_distributions = random_grid, \n",
    "                            n_iter = 300, cv = 4, scoring = 'recall', \n",
    "                            verbose=0, n_jobs = -1)\n",
    "\n",
    "evaluationGrid(rf_random)\n",
    "print(rf_random.best_params_)"
   ]
  },
  {
   "cell_type": "markdown",
   "metadata": {},
   "source": [
    "### Ok, the grid search is improving our f1 score, but recall is lower. Let us try SMOTE on AdaBoost:"
   ]
  },
  {
   "cell_type": "code",
   "execution_count": 155,
   "metadata": {},
   "outputs": [
    {
     "name": "stdout",
     "output_type": "stream",
     "text": [
      "[[86  9]\n",
      " [ 6 10]]\n",
      "              precision    recall  f1-score   support\n",
      "\n",
      "           0       0.93      0.91      0.92        95\n",
      "           1       0.53      0.62      0.57        16\n",
      "\n",
      "    accuracy                           0.86       111\n",
      "   macro avg       0.73      0.77      0.75       111\n",
      "weighted avg       0.88      0.86      0.87       111\n",
      "\n"
     ]
    },
    {
     "name": "stderr",
     "output_type": "stream",
     "text": [
      "C:\\ProgramData\\Anaconda3\\lib\\site-packages\\sklearn\\feature_selection\\_univariate_selection.py:110: RuntimeWarning: invalid value encountered in true_divide\n",
      "  msb = ssbn / float(dfbn)\n",
      "C:\\ProgramData\\Anaconda3\\lib\\site-packages\\sklearn\\metrics\\_classification.py:1221: UndefinedMetricWarning: Recall is ill-defined and being set to 0.0 due to no true samples. Use `zero_division` parameter to control this behavior.\n",
      "  _warn_prf(average, modifier, msg_start, len(result))\n",
      "C:\\ProgramData\\Anaconda3\\lib\\site-packages\\sklearn\\feature_selection\\_univariate_selection.py:110: RuntimeWarning: invalid value encountered in true_divide\n",
      "  msb = ssbn / float(dfbn)\n",
      "C:\\ProgramData\\Anaconda3\\lib\\site-packages\\sklearn\\metrics\\_classification.py:1221: UndefinedMetricWarning: Recall is ill-defined and being set to 0.0 due to no true samples. Use `zero_division` parameter to control this behavior.\n",
      "  _warn_prf(average, modifier, msg_start, len(result))\n",
      "C:\\ProgramData\\Anaconda3\\lib\\site-packages\\sklearn\\feature_selection\\_univariate_selection.py:110: RuntimeWarning: invalid value encountered in true_divide\n",
      "  msb = ssbn / float(dfbn)\n",
      "C:\\ProgramData\\Anaconda3\\lib\\site-packages\\sklearn\\metrics\\_classification.py:1221: UndefinedMetricWarning: Recall is ill-defined and being set to 0.0 due to no true samples. Use `zero_division` parameter to control this behavior.\n",
      "  _warn_prf(average, modifier, msg_start, len(result))\n",
      "C:\\ProgramData\\Anaconda3\\lib\\site-packages\\sklearn\\feature_selection\\_univariate_selection.py:110: RuntimeWarning: invalid value encountered in true_divide\n",
      "  msb = ssbn / float(dfbn)\n",
      "C:\\ProgramData\\Anaconda3\\lib\\site-packages\\sklearn\\metrics\\_classification.py:1221: UndefinedMetricWarning: Recall is ill-defined and being set to 0.0 due to no true samples. Use `zero_division` parameter to control this behavior.\n",
      "  _warn_prf(average, modifier, msg_start, len(result))\n",
      "C:\\ProgramData\\Anaconda3\\lib\\site-packages\\sklearn\\feature_selection\\_univariate_selection.py:110: RuntimeWarning: invalid value encountered in true_divide\n",
      "  msb = ssbn / float(dfbn)\n",
      "C:\\ProgramData\\Anaconda3\\lib\\site-packages\\sklearn\\metrics\\_classification.py:1221: UndefinedMetricWarning: Recall is ill-defined and being set to 0.0 due to no true samples. Use `zero_division` parameter to control this behavior.\n",
      "  _warn_prf(average, modifier, msg_start, len(result))\n"
     ]
    },
    {
     "data": {
      "image/png": "[encoded data removed]",
      "text/plain": [
       "<Figure size 864x576 with 1 Axes>"
      ]
     },
     "metadata": {
      "needs_background": "light"
     },
     "output_type": "display_data"
    }
   ],
   "source": [
    "evaluation(AdaBoost)"
   ]
  },
  {
   "cell_type": "markdown",
   "metadata": {},
   "source": [
    "### Not a bad result. f1 score decreases, but recall is up. Let us see if we can get any improvement by using a majority vote classifier. Since our original SMOTE random forest produced good results, we shall use it here:"
   ]
  },
  {
   "cell_type": "code",
   "execution_count": 156,
   "metadata": {},
   "outputs": [],
   "source": [
    "from sklearn.ensemble import VotingClassifier"
   ]
  },
  {
   "cell_type": "code",
   "execution_count": 167,
   "metadata": {},
   "outputs": [],
   "source": [
    "voting = VotingClassifier(estimators=[('SVM', grid), ('rf', RandomForest), ('gnb', AdaBoost)], voting='hard')"
   ]
  },
  {
   "cell_type": "code",
   "execution_count": 168,
   "metadata": {},
   "outputs": [
    {
     "name": "stdout",
     "output_type": "stream",
     "text": [
      "[[86  9]\n",
      " [ 6 10]]\n",
      "              precision    recall  f1-score   support\n",
      "\n",
      "           0       0.93      0.91      0.92        95\n",
      "           1       0.53      0.62      0.57        16\n",
      "\n",
      "    accuracy                           0.86       111\n",
      "   macro avg       0.73      0.77      0.75       111\n",
      "weighted avg       0.88      0.86      0.87       111\n",
      "\n"
     ]
    }
   ],
   "source": [
    "evaluationGrid(voting)"
   ]
  },
  {
   "cell_type": "markdown",
   "metadata": {},
   "source": [
    "### This recall isn't bad. If we wish to focus on recall at all costs, we could retain SVM with threshold -1 (that has recall of 0.75), but it is very possible that that classifier is sensitive to our particular set of training data. This majority vote ensemble method, with it's combination of several classifiers, is likely more robust."
   ]
  },
  {
   "cell_type": "code",
   "execution_count": null,
   "metadata": {},
   "outputs": [],
   "source": []
  }
 ],
 "metadata": {
  "colab": {
   "include_colab_link": true,
   "name": "Untitled5-Copy7.ipynb",
   "provenance": []
  },
  "kernelspec": {
   "display_name": "Python 3",
   "language": "python",
   "name": "python3"
  },
  "language_info": {
   "codemirror_mode": {
    "name": "ipython",
    "version": 3
   },
   "file_extension": ".py",
   "mimetype": "text/x-python",
   "name": "python",
   "nbconvert_exporter": "python",
   "pygments_lexer": "ipython3",
   "version": "3.7.7"
  }
 },
 "nbformat": 4,
 "nbformat_minor": 1
}
